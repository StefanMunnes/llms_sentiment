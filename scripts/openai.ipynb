{
 "cells": [
  {
   "cell_type": "markdown",
   "metadata": {},
   "source": [
    "# Load review data"
   ]
  },
  {
   "cell_type": "code",
   "execution_count": 2,
   "metadata": {},
   "outputs": [],
   "source": [
    "import pandas as pd\n",
    "\n",
    "reviews = pd.read_csv(\"../data/tmp_reviews.csv\", sep=\",\", index_col=False, encoding=\"utf-8\")"
   ]
  },
  {
   "cell_type": "code",
   "execution_count": 3,
   "metadata": {},
   "outputs": [],
   "source": [
    "import random\n",
    "reviews = reviews.sample(n=40)"
   ]
  },
  {
   "cell_type": "markdown",
   "metadata": {},
   "source": [
    "# Define openAI function for sentiment chat completion\n",
    "Constant\n",
    "- model: gpt-4o\n",
    "- max_tokens: 1\n",
    "- temperature: 0\n",
    "What to define in loop\n",
    "- message: system + user/assistant prompts\n",
    "\n",
    "Output: response as integer"
   ]
  },
  {
   "cell_type": "code",
   "execution_count": 1,
   "metadata": {},
   "outputs": [],
   "source": [
    "# load and set API key for openAI\n",
    "\n",
    "import openai\n",
    "from openai import OpenAI\n",
    "\n",
    "openai.api_key = open(\"C:/Users/munnes/Documents/API_Keys/openai_20240613.txt\", \"r\").read()\n",
    "\n",
    "client = OpenAI(api_key=openai.api_key)"
   ]
  },
  {
   "cell_type": "code",
   "execution_count": 4,
   "metadata": {},
   "outputs": [],
   "source": [
    "def sentiment_analysis(message=list):\n",
    "\n",
    "    # Call the OpenAI API to generate a response\n",
    "    response = client.chat.completions.create(\n",
    "        model=\"gpt-4o\",  # Use a powerful model for sentiment analysis\n",
    "        messages=message,\n",
    "        max_tokens=1,  # Limit response to a single word\n",
    "        temperature=0  # Keep response consistent\n",
    "    )\n",
    "\n",
    "    # Extract the sentiment from the response\n",
    "    sentiment = response.choices[0].message.content\n",
    "    sentiment = int(sentiment)\n",
    "\n",
    "    return sentiment"
   ]
  },
  {
   "cell_type": "markdown",
   "metadata": {},
   "source": []
  },
  {
   "cell_type": "code",
   "execution_count": null,
   "metadata": {},
   "outputs": [],
   "source": [
    "# https://platform.openai.com/docs/guides/text-generation/chat-completions-api\n",
    "\n",
    "system_short = \"Du bist trainiert, die Qualität von deutschsprachigen Büchern aus kurzen Rezensionen zu extrahieren. Bewerte die Qualität des besprochenen Buches auf einer Skala von 1 (sehr schlecht) bis 7 (sehr gut). Antworte nur mit der Zahle.\"\n",
    "\n",
    "system_long = \"Du bist trainiert, die Qualität von deutschsprachigen Büchern aus kurzen Rezensionen zu extrahieren. Die Rezensionen enthalten oft auch kurze Zusammenfassungen des Inhalts, der für die Bewertung nicht wichtig ist. Fokussiere dich lediglich auf die verschiedenen Bewertungenmaßstäbe, gehe dabei systematisch vor und prüfe, welche Dimensionen der Buchqualität besprochen und bewertet werden. Bewerte die Qualität des besprochenen Buches auf einer Skala von 1 (sehr schlecht) bis 7 (sehr gut). Antworte nur mit der Zahle.\""
   ]
  },
  {
   "cell_type": "code",
   "execution_count": 5,
   "metadata": {},
   "outputs": [
    {
     "ename": "SyntaxError",
     "evalue": "expression expected after dictionary key and ':' (2124296237.py, line 3)",
     "output_type": "error",
     "traceback": [
      "\u001b[1;36m  Cell \u001b[1;32mIn[5], line 3\u001b[1;36m\u001b[0m\n\u001b[1;33m    {\"role\": \"user\", \"content\": }\u001b[0m\n\u001b[1;37m                              ^\u001b[0m\n\u001b[1;31mSyntaxError\u001b[0m\u001b[1;31m:\u001b[0m expression expected after dictionary key and ':'\n"
     ]
    }
   ],
   "source": [
    "message_zeroshot = [\n",
    "    {\"role\": \"system\", \"content\": system},\n",
    "    {\"role\": \"user\", \"content\": review}\n",
    "  ]"
   ]
  },
  {
   "cell_type": "code",
   "execution_count": null,
   "metadata": {},
   "outputs": [],
   "source": [
    "\n",
    "message_fewshot_1 = [\n",
    "    {\"role\": \"system\", \"content\": system},\n",
    "    {\"role\": \"user\", \"content\": }\n",
    "  ]\n",
    "\n",
    "message_fewshot_2 = [\n",
    "    {\"role\": \"system\", \"content\": system},\n",
    "    {\"role\": \"user\", \"content\": fewshots[\"review\"][0]},\n",
    "    {\"role\": \"assistant\", \"content\": fewshots[\"sent_hc_7\"][0]},\n",
    "    {\"role\": \"user\", \"content\": fewshots[\"review\"][1]},\n",
    "    {\"role\": \"assistant\", \"content\": fewshots[\"sent_hc_7\"][1]},\n",
    "    {\"role\": \"user\", \"content\": fewshots[\"review\"][2]},\n",
    "    {\"role\": \"assistant\", \"content\": fewshots[\"sent_hc_7\"][2]},\n",
    "    {\"role\": \"user\", \"content\": fewshots[\"review\"][3]},\n",
    "    {\"role\": \"assistant\", \"content\": fewshots[\"sent_hc_7\"][3]},\n",
    "    {\"role\": \"user\", \"content\": text}\n",
    "  ]"
   ]
  },
  {
   "cell_type": "code",
   "execution_count": 43,
   "metadata": {},
   "outputs": [],
   "source": [
    "sentiments_zeroshot = []\n",
    "\n",
    "for i, row in reviews.iterrows():\n",
    "    # if i % 10 == 0: print(i)\n",
    "    sentiment = sentiment_analysis(row[\"review\"])\n",
    "    sentiments_zeroshot.append(sentiment)"
   ]
  },
  {
   "cell_type": "code",
   "execution_count": null,
   "metadata": {},
   "outputs": [],
   "source": [
    "reviews[\"sent_openai_zeroshot\"] = sentiments_zeroshot"
   ]
  },
  {
   "cell_type": "code",
   "execution_count": 80,
   "metadata": {},
   "outputs": [],
   "source": [
    "def random_rating(df, ratings, n):\n",
    "\n",
    "  revs_examples = pd.DataFrame(columns=['review', 'sent_hc_7'])\n",
    "\n",
    "  for rating in ratings:\n",
    "    revs = df[df[\"sent_hc_7\"] == rating]\n",
    "    revs = revs.sample(n=n)\n",
    "\n",
    "    revs_examples = pd.concat([revs_examples, revs], ignore_index=True)\n",
    "\n",
    "  revs_examples = revs_examples.sample(frac=1).reset_index(drop=True)\n",
    "  \n",
    "  revs_examples[\"sent_hc_7\"] = revs_examples[\"sent_hc_7\"].astype(str)\n",
    "  \n",
    "  return(revs_examples)"
   ]
  },
  {
   "cell_type": "code",
   "execution_count": 81,
   "metadata": {},
   "outputs": [
    {
     "data": {
      "text/html": [
       "<div>\n",
       "<style scoped>\n",
       "    .dataframe tbody tr th:only-of-type {\n",
       "        vertical-align: middle;\n",
       "    }\n",
       "\n",
       "    .dataframe tbody tr th {\n",
       "        vertical-align: top;\n",
       "    }\n",
       "\n",
       "    .dataframe thead th {\n",
       "        text-align: right;\n",
       "    }\n",
       "</style>\n",
       "<table border=\"1\" class=\"dataframe\">\n",
       "  <thead>\n",
       "    <tr style=\"text-align: right;\">\n",
       "      <th></th>\n",
       "      <th>review</th>\n",
       "      <th>sent_hc_7</th>\n",
       "      <th>sent_openai_zero_shot</th>\n",
       "      <th>sent_openai_fewshot1</th>\n",
       "      <th>sent_openai_zeroshot</th>\n",
       "    </tr>\n",
       "  </thead>\n",
       "  <tbody>\n",
       "    <tr>\n",
       "      <th>0</th>\n",
       "      <td>Einfach nur schrecklich findet Rezensentin Kat...</td>\n",
       "      <td>1</td>\n",
       "      <td>7.0</td>\n",
       "      <td>1.0</td>\n",
       "      <td>7.0</td>\n",
       "    </tr>\n",
       "    <tr>\n",
       "      <th>1</th>\n",
       "      <td>Helmut Krausser hat mit \"Eros\" auch ein \"Sitte...</td>\n",
       "      <td>3</td>\n",
       "      <td>6.0</td>\n",
       "      <td>2.0</td>\n",
       "      <td>6.0</td>\n",
       "    </tr>\n",
       "    <tr>\n",
       "      <th>2</th>\n",
       "      <td>Mit großem Vergnügen hat Rezensent Burkhard Mü...</td>\n",
       "      <td>7</td>\n",
       "      <td>4.0</td>\n",
       "      <td>6.0</td>\n",
       "      <td>4.0</td>\n",
       "    </tr>\n",
       "    <tr>\n",
       "      <th>3</th>\n",
       "      <td>Die Protagonistin in diesem Roman, den der Fro...</td>\n",
       "      <td>5</td>\n",
       "      <td>6.0</td>\n",
       "      <td>5.0</td>\n",
       "      <td>6.0</td>\n",
       "    </tr>\n",
       "  </tbody>\n",
       "</table>\n",
       "</div>"
      ],
      "text/plain": [
       "                                              review sent_hc_7  \\\n",
       "0  Einfach nur schrecklich findet Rezensentin Kat...         1   \n",
       "1  Helmut Krausser hat mit \"Eros\" auch ein \"Sitte...         3   \n",
       "2  Mit großem Vergnügen hat Rezensent Burkhard Mü...         7   \n",
       "3  Die Protagonistin in diesem Roman, den der Fro...         5   \n",
       "\n",
       "   sent_openai_zero_shot  sent_openai_fewshot1  sent_openai_zeroshot  \n",
       "0                    7.0                   1.0                   7.0  \n",
       "1                    6.0                   2.0                   6.0  \n",
       "2                    4.0                   6.0                   4.0  \n",
       "3                    6.0                   5.0                   6.0  "
      ]
     },
     "execution_count": 81,
     "metadata": {},
     "output_type": "execute_result"
    }
   ],
   "source": [
    "reviews_examples = random_rating(reviews, [1, 3, 5, 7], 1)\n",
    "reviews_examples"
   ]
  },
  {
   "cell_type": "code",
   "execution_count": 82,
   "metadata": {},
   "outputs": [
    {
     "data": {
      "text/plain": [
       "'Einfach nur schrecklich findet Rezensentin Katharina Döbler Durs Grünbeins Poem zur Zerstörung Dresdens, für das er das Bild des Porzellans für ihren Geschmack reichlich überstrapaziert. \"Schönheit und Zerbrechlichkeit, Hybris und Untergang\" werden so unerbittlich zusammengereimt, dass die Rezensentin sich gelegentlich an die \"Kalauer eines blödelnden Fernseh-Entainers\" erinnert fühlt (\"Von der bella ante bellum - nichts mehr da\"). Meist aber sind ihr Bilder und Reimschema einfach zu bieder. Und das \"altväterliche, offen patriarchalische Frauenbild\" findet sie ebenfalls recht unzeitgemäß. Fragwürdig schließlich kommt ihr vor, was Grünbein daraus folgert, dass die Frauenkirche nach der Bombardierung noch einige Tage stand, bevor sie zusammenbrach: \"so wie sie die Haltung wahren.\"'"
      ]
     },
     "execution_count": 82,
     "metadata": {},
     "output_type": "execute_result"
    }
   ],
   "source": [
    "reviews_examples[\"review\"][0]"
   ]
  },
  {
   "cell_type": "code",
   "execution_count": 88,
   "metadata": {},
   "outputs": [
    {
     "name": "stdout",
     "output_type": "stream",
     "text": [
      "Text: Einfach nur schrecklich findet Rezensentin Katharina Döbler Durs Grünbeins Poem zur Zerstörung Dresdens, für das er das Bild des Porzellans für ihren Geschmack reichlich überstrapaziert. \"Schönheit und Zerbrechlichkeit, Hybris und Untergang\" werden so unerbittlich zusammengereimt, dass die Rezensentin sich gelegentlich an die \"Kalauer eines blödelnden Fernseh-Entainers\" erinnert fühlt (\"Von der bella ante bellum - nichts mehr da\"). Meist aber sind ihr Bilder und Reimschema einfach zu bieder. Und das \"altväterliche, offen patriarchalische Frauenbild\" findet sie ebenfalls recht unzeitgemäß. Fragwürdig schließlich kommt ihr vor, was Grünbein daraus folgert, dass die Frauenkirche nach der Bombardierung noch einige Tage stand, bevor sie zusammenbrach: \"so wie sie die Haltung wahren.\"\n",
      "Sentiment: 1\n",
      "\n",
      "Text: Helmut Krausser hat mit \"Eros\" auch ein \"Sittenbild der alten Bundesrepublik\" geschrieben, erklärt Rezensent Rainer Moritz, doch sein eigentliches erzählerisches Anliegen ist individuell: die Geschichte einer lebenslang unglücklichen Liebe zwischen einem finanzkräftigen Industriellen und einer sich ihm bis zuletzt widersetzenden Frau. Den Rezensenten hat Krausser allerdings nicht überzeugen können: Der Roman mache einen durch und durch überkonstruierten Eindruck und ähnele einem Baukasten \"voller Kolportageelemente und voller historischer Füllsel, deren mitunter hölzerne Darbietung sich nicht als Figurenrede entschuldigen lässt\". Die Aufgabe des Ich-Erzählers, das Leben des Industriellen sinnfällig aufs Papier zu bringen, scheitere an der nicht zu bewältigenden Komplexität des Lebens und so scheitere auch Kraussers \"Eros\" und drifte ab ins Unglaubwürdige.\n",
      "Sentiment: 3\n",
      "\n",
      "Text: Mit großem Vergnügen hat Rezensent Burkhard Müller diesen Roman von Wolfgang Rüb gelesen. Er lobt \"Wohnquartett mit Querflöte\" als höchst \"originelles Buch\", das sich zugleich durch \"raffinierte Einfalt\" auszeichnet. Im Mittelpunkt sieht er die ungewöhnliche Freundschaft zwischen einem erfolgreichen West-Pärchen, das einem arbeitslosen Ost-Paar die Jugendstil-Villa abkauft. Er bescheinigt dem Autor nicht nur zahlreiche amüsante Ideen und Beobachtungen, sondern auch einen \"hellen soziologischen Blick\", mit dem die immer noch bestehenden Differenzen zwischen ost- und westdeutscher Gesellschaft betrachtet werden. Allenfalls die Vorliebe für Kalauer und Slapstick hat er zu monieren. Ansonsten aber scheint Müller rundum glücklich mit diesem Buch.\n",
      "Sentiment: 7\n",
      "\n",
      "Text: Die Protagonistin in diesem Roman, den der Frontmann der Band Erdmöbel Markus Berges geschrieben hat, ist 19, heißt Betti, reist nach Paris und dann nach Monaco. Nach Paris einer Brieffreundin wegen, die anders heißt als behauptet und sich als sehr anders auch herausstellt, als Betti sie sich vorgestellt hat. Schnaubend macht sich Betti, die sie nun nur noch \"die Fette? nennt, auf und davon und erlebt mancherlei Abenteuer, die man genremäßig, so Oliver Jungen, dem magischen Realismus zuschlagen kann. Mal findet der Rezensent das einigermaßen reizend, anderes ist für seine Begriffe mit dem Wort \"Kitsch? doch besser beschrieben. Insgesamt mag er das Buch aber, weil Berges immer wieder hübsch \"dahingeerdmöbelte Bilder? finde und der Ton insgesamt \"angenehm? ist.\n",
      "Sentiment: 5\n",
      "\n"
     ]
    }
   ],
   "source": [
    "sentences = []\n",
    "\n",
    "for i, row in reviews_examples.iterrows():\n",
    "    # Construct a sentence using the values from the DataFrame\n",
    "    sentence1 = f\"Text: {row['review']}\\n\"\n",
    "    sentence2 = f\"Sentiment: {row['sent_hc_7']}\\n\"\n",
    "    sentences.append(sentence1 + sentence2)\n",
    "\n",
    "sentences = \"\\n\".join(sentences)\n",
    "\n",
    "fewshot1 = \n",
    "  \"Im Folgenden die Sentiment Analyse der rezensierten Bücher:\\n\" +\n",
    "  sentencens +\n",
    "  \"\"\n",
    "\n",
    "print(sentences)"
   ]
  },
  {
   "cell_type": "code",
   "execution_count": 76,
   "metadata": {},
   "outputs": [
    {
     "name": "stdout",
     "output_type": "stream",
     "text": [
      "2399\n",
      "2455\n",
      "5047\n",
      "5250\n",
      "3400\n",
      "762\n",
      "1441\n",
      "3467\n",
      "935\n",
      "3781\n",
      "2553\n",
      "2984\n",
      "5646\n",
      "5130\n",
      "5783\n",
      "4582\n",
      "2641\n",
      "3884\n",
      "4852\n",
      "90\n",
      "2014\n",
      "5449\n",
      "4912\n",
      "1762\n",
      "4784\n",
      "5179\n",
      "3140\n",
      "2329\n",
      "3316\n",
      "1701\n",
      "2796\n",
      "5002\n",
      "1325\n",
      "3078\n",
      "3184\n",
      "5561\n",
      "4658\n",
      "3092\n",
      "1733\n",
      "3358\n"
     ]
    }
   ],
   "source": [
    "sentiments_fewshots1 = []\n",
    "\n",
    "for i, row in reviews.iterrows():\n",
    "    print(i)\n",
    "    sentiment = sentiment_analysis_fewshots(reviews_examples, row[\"review\"])\n",
    "    sentiments_fewshots1.append(sentiment)"
   ]
  },
  {
   "cell_type": "code",
   "execution_count": 78,
   "metadata": {},
   "outputs": [],
   "source": [
    "reviews[\"sent_openai_fewshot1\"] = sentiments_fewshots1"
   ]
  },
  {
   "cell_type": "code",
   "execution_count": 111,
   "metadata": {},
   "outputs": [],
   "source": [
    "reviews.to_csv(\"reviews_sentiment.csv\")"
   ]
  },
  {
   "cell_type": "code",
   "execution_count": null,
   "metadata": {},
   "outputs": [],
   "source": [
    "conda install -c conda-forge pingouin"
   ]
  },
  {
   "cell_type": "code",
   "execution_count": 108,
   "metadata": {},
   "outputs": [
    {
     "ename": "AttributeError",
     "evalue": "'DataFrame' object has no attribute 'str'",
     "output_type": "error",
     "traceback": [
      "\u001b[1;31m---------------------------------------------------------------------------\u001b[0m",
      "\u001b[1;31mAttributeError\u001b[0m                            Traceback (most recent call last)",
      "\u001b[1;32m~\\AppData\\Local\\Temp\\ipykernel_14168\\3817360523.py\u001b[0m in \u001b[0;36m?\u001b[1;34m()\u001b[0m\n\u001b[1;32m----> 9\u001b[1;33m \u001b[0mrevs_long\u001b[0m \u001b[1;33m=\u001b[0m \u001b[0mreviews\u001b[0m\u001b[1;33m[\u001b[0m\u001b[1;33m[\u001b[0m\u001b[1;34m\"sent_hc_7\"\u001b[0m\u001b[1;33m,\u001b[0m \u001b[1;34m\"sent_openai_fewshot1\"\u001b[0m\u001b[1;33m]\u001b[0m\u001b[1;33m]\u001b[0m\u001b[1;33m.\u001b[0m\u001b[0mrename\u001b[0m\u001b[1;33m(\u001b[0m\u001b[0mcolumns\u001b[0m\u001b[1;33m=\u001b[0m\u001b[1;33m{\u001b[0m\u001b[1;34m\"sent_hc_7\"\u001b[0m\u001b[1;33m:\u001b[0m \u001b[1;34m\"rating_human\"\u001b[0m\u001b[1;33m,\u001b[0m \u001b[1;34m\"sent_openai_fewshot1\"\u001b[0m\u001b[1;33m:\u001b[0m \u001b[1;34m\"rating_fewhot1\"\u001b[0m\u001b[1;33m}\u001b[0m\u001b[1;33m)\u001b[0m\u001b[1;33m\u001b[0m\u001b[1;33m\u001b[0m\u001b[0m\n\u001b[0m\u001b[0;32m     10\u001b[0m \u001b[1;33m\u001b[0m\u001b[0m\n\u001b[0;32m     11\u001b[0m \u001b[0mrevs_long\u001b[0m\u001b[1;33m[\u001b[0m\u001b[1;34m\"id\"\u001b[0m\u001b[1;33m]\u001b[0m \u001b[1;33m=\u001b[0m \u001b[0mrevs_long\u001b[0m\u001b[1;33m.\u001b[0m\u001b[0mindex\u001b[0m\u001b[1;33m\u001b[0m\u001b[1;33m\u001b[0m\u001b[0m\n\u001b[0;32m     12\u001b[0m \u001b[1;33m\u001b[0m\u001b[0m\n",
      "\u001b[1;32mc:\\Users\\munnes\\Anaconda3\\lib\\site-packages\\pandas\\core\\reshape\\melt.py\u001b[0m in \u001b[0;36m?\u001b[1;34m(df, stubnames, i, j, sep, suffix)\u001b[0m\n\u001b[0;32m    499\u001b[0m     \u001b[0mvalue_vars_flattened\u001b[0m \u001b[1;33m=\u001b[0m \u001b[1;33m[\u001b[0m\u001b[1;33m]\u001b[0m\u001b[1;33m\u001b[0m\u001b[1;33m\u001b[0m\u001b[0m\n\u001b[0;32m    500\u001b[0m     \u001b[1;32mfor\u001b[0m \u001b[0mstub\u001b[0m \u001b[1;32min\u001b[0m \u001b[0mstubnames\u001b[0m\u001b[1;33m:\u001b[0m\u001b[1;33m\u001b[0m\u001b[1;33m\u001b[0m\u001b[0m\n\u001b[0;32m    501\u001b[0m         \u001b[0mvalue_var\u001b[0m \u001b[1;33m=\u001b[0m \u001b[0mget_var_names\u001b[0m\u001b[1;33m(\u001b[0m\u001b[0mdf\u001b[0m\u001b[1;33m,\u001b[0m \u001b[0mstub\u001b[0m\u001b[1;33m,\u001b[0m \u001b[0msep\u001b[0m\u001b[1;33m,\u001b[0m \u001b[0msuffix\u001b[0m\u001b[1;33m)\u001b[0m\u001b[1;33m\u001b[0m\u001b[1;33m\u001b[0m\u001b[0m\n\u001b[0;32m    502\u001b[0m         \u001b[0mvalue_vars_flattened\u001b[0m\u001b[1;33m.\u001b[0m\u001b[0mextend\u001b[0m\u001b[1;33m(\u001b[0m\u001b[0mvalue_var\u001b[0m\u001b[1;33m)\u001b[0m\u001b[1;33m\u001b[0m\u001b[1;33m\u001b[0m\u001b[0m\n\u001b[1;32m--> 503\u001b[1;33m         \u001b[0m_melted\u001b[0m\u001b[1;33m.\u001b[0m\u001b[0mappend\u001b[0m\u001b[1;33m(\u001b[0m\u001b[0mmelt_stub\u001b[0m\u001b[1;33m(\u001b[0m\u001b[0mdf\u001b[0m\u001b[1;33m,\u001b[0m \u001b[0mstub\u001b[0m\u001b[1;33m,\u001b[0m \u001b[0mi\u001b[0m\u001b[1;33m,\u001b[0m \u001b[0mj\u001b[0m\u001b[1;33m,\u001b[0m \u001b[0mvalue_var\u001b[0m\u001b[1;33m,\u001b[0m \u001b[0msep\u001b[0m\u001b[1;33m)\u001b[0m\u001b[1;33m)\u001b[0m\u001b[1;33m\u001b[0m\u001b[1;33m\u001b[0m\u001b[0m\n\u001b[0m\u001b[0;32m    504\u001b[0m \u001b[1;33m\u001b[0m\u001b[0m\n\u001b[0;32m    505\u001b[0m     \u001b[0mmelted\u001b[0m \u001b[1;33m=\u001b[0m \u001b[0mconcat\u001b[0m\u001b[1;33m(\u001b[0m\u001b[0m_melted\u001b[0m\u001b[1;33m,\u001b[0m \u001b[0maxis\u001b[0m\u001b[1;33m=\u001b[0m\u001b[1;36m1\u001b[0m\u001b[1;33m)\u001b[0m\u001b[1;33m\u001b[0m\u001b[1;33m\u001b[0m\u001b[0m\n\u001b[0;32m    506\u001b[0m     \u001b[0mid_vars\u001b[0m \u001b[1;33m=\u001b[0m \u001b[0mdf\u001b[0m\u001b[1;33m.\u001b[0m\u001b[0mcolumns\u001b[0m\u001b[1;33m.\u001b[0m\u001b[0mdifference\u001b[0m\u001b[1;33m(\u001b[0m\u001b[0mvalue_vars_flattened\u001b[0m\u001b[1;33m)\u001b[0m\u001b[1;33m\u001b[0m\u001b[1;33m\u001b[0m\u001b[0m\n",
      "\u001b[1;32mc:\\Users\\munnes\\Anaconda3\\lib\\site-packages\\pandas\\core\\reshape\\melt.py\u001b[0m in \u001b[0;36m?\u001b[1;34m(df, stub, i, j, value_vars, sep)\u001b[0m\n\u001b[0;32m    467\u001b[0m             \u001b[0mvalue_vars\u001b[0m\u001b[1;33m=\u001b[0m\u001b[0mvalue_vars\u001b[0m\u001b[1;33m,\u001b[0m\u001b[1;33m\u001b[0m\u001b[1;33m\u001b[0m\u001b[0m\n\u001b[0;32m    468\u001b[0m             \u001b[0mvalue_name\u001b[0m\u001b[1;33m=\u001b[0m\u001b[0mstub\u001b[0m\u001b[1;33m.\u001b[0m\u001b[0mrstrip\u001b[0m\u001b[1;33m(\u001b[0m\u001b[0msep\u001b[0m\u001b[1;33m)\u001b[0m\u001b[1;33m,\u001b[0m\u001b[1;33m\u001b[0m\u001b[1;33m\u001b[0m\u001b[0m\n\u001b[0;32m    469\u001b[0m             \u001b[0mvar_name\u001b[0m\u001b[1;33m=\u001b[0m\u001b[0mj\u001b[0m\u001b[1;33m,\u001b[0m\u001b[1;33m\u001b[0m\u001b[1;33m\u001b[0m\u001b[0m\n\u001b[0;32m    470\u001b[0m         )\n\u001b[1;32m--> 471\u001b[1;33m         \u001b[0mnewdf\u001b[0m\u001b[1;33m[\u001b[0m\u001b[0mj\u001b[0m\u001b[1;33m]\u001b[0m \u001b[1;33m=\u001b[0m \u001b[0mnewdf\u001b[0m\u001b[1;33m[\u001b[0m\u001b[0mj\u001b[0m\u001b[1;33m]\u001b[0m\u001b[1;33m.\u001b[0m\u001b[0mstr\u001b[0m\u001b[1;33m.\u001b[0m\u001b[0mreplace\u001b[0m\u001b[1;33m(\u001b[0m\u001b[0mre\u001b[0m\u001b[1;33m.\u001b[0m\u001b[0mescape\u001b[0m\u001b[1;33m(\u001b[0m\u001b[0mstub\u001b[0m \u001b[1;33m+\u001b[0m \u001b[0msep\u001b[0m\u001b[1;33m)\u001b[0m\u001b[1;33m,\u001b[0m \u001b[1;34m\"\"\u001b[0m\u001b[1;33m,\u001b[0m \u001b[0mregex\u001b[0m\u001b[1;33m=\u001b[0m\u001b[1;32mTrue\u001b[0m\u001b[1;33m)\u001b[0m\u001b[1;33m\u001b[0m\u001b[1;33m\u001b[0m\u001b[0m\n\u001b[0m\u001b[0;32m    472\u001b[0m \u001b[1;33m\u001b[0m\u001b[0m\n\u001b[0;32m    473\u001b[0m         \u001b[1;31m# GH17627 Cast numerics suffixes to int/float\u001b[0m\u001b[1;33m\u001b[0m\u001b[1;33m\u001b[0m\u001b[0m\n\u001b[0;32m    474\u001b[0m         \u001b[1;32mtry\u001b[0m\u001b[1;33m:\u001b[0m\u001b[1;33m\u001b[0m\u001b[1;33m\u001b[0m\u001b[0m\n",
      "\u001b[1;32mc:\\Users\\munnes\\Anaconda3\\lib\\site-packages\\pandas\\core\\generic.py\u001b[0m in \u001b[0;36m?\u001b[1;34m(self, name)\u001b[0m\n\u001b[0;32m   6295\u001b[0m             \u001b[1;32mand\u001b[0m \u001b[0mname\u001b[0m \u001b[1;32mnot\u001b[0m \u001b[1;32min\u001b[0m \u001b[0mself\u001b[0m\u001b[1;33m.\u001b[0m\u001b[0m_accessors\u001b[0m\u001b[1;33m\u001b[0m\u001b[1;33m\u001b[0m\u001b[0m\n\u001b[0;32m   6296\u001b[0m             \u001b[1;32mand\u001b[0m \u001b[0mself\u001b[0m\u001b[1;33m.\u001b[0m\u001b[0m_info_axis\u001b[0m\u001b[1;33m.\u001b[0m\u001b[0m_can_hold_identifiers_and_holds_name\u001b[0m\u001b[1;33m(\u001b[0m\u001b[0mname\u001b[0m\u001b[1;33m)\u001b[0m\u001b[1;33m\u001b[0m\u001b[1;33m\u001b[0m\u001b[0m\n\u001b[0;32m   6297\u001b[0m         ):\n\u001b[0;32m   6298\u001b[0m             \u001b[1;32mreturn\u001b[0m \u001b[0mself\u001b[0m\u001b[1;33m[\u001b[0m\u001b[0mname\u001b[0m\u001b[1;33m]\u001b[0m\u001b[1;33m\u001b[0m\u001b[1;33m\u001b[0m\u001b[0m\n\u001b[1;32m-> 6299\u001b[1;33m         \u001b[1;32mreturn\u001b[0m \u001b[0mobject\u001b[0m\u001b[1;33m.\u001b[0m\u001b[0m__getattribute__\u001b[0m\u001b[1;33m(\u001b[0m\u001b[0mself\u001b[0m\u001b[1;33m,\u001b[0m \u001b[0mname\u001b[0m\u001b[1;33m)\u001b[0m\u001b[1;33m\u001b[0m\u001b[1;33m\u001b[0m\u001b[0m\n\u001b[0m",
      "\u001b[1;31mAttributeError\u001b[0m: 'DataFrame' object has no attribute 'str'"
     ]
    }
   ],
   "source": [
    "revs_long = reviews[[\"sent_hc_7\", \"sent_openai_fewshot1\"]].rename(columns={\"sent_hc_7\": \"rating_human\", \"sent_openai_fewshot1\": \"rating_fewhot1\"})\n",
    "\n",
    "revs_long[\"id\"] = revs_long.index\n",
    "\n",
    "# Ensure the specific columns are of correct dtype.\n",
    "revs_long['rating_human'] = revs_long['rating_human'].astype(str)\n",
    "revs_long['rating_fewhot1'] = revs_long['rating_fewhot1'].astype(str)\n",
    "\n",
    "revs_long = pd.wide_to_long(revs_long, stubnames=['rating'], i='id', j=\"rating\", sep='_', suffix='.*', )"
   ]
  },
  {
   "cell_type": "code",
   "execution_count": 89,
   "metadata": {},
   "outputs": [
    {
     "name": "stdout",
     "output_type": "stream",
     "text": [
      "Channels:\n",
      " - defaults\n",
      "Platform: win-64\n",
      "Collecting package metadata (repodata.json): ...working... done\n",
      "Solving environment: ...working... failed\n",
      "\n",
      "Note: you may need to restart the kernel to use updated packages.\n"
     ]
    },
    {
     "name": "stderr",
     "output_type": "stream",
     "text": [
      "\n",
      "PackagesNotFoundError: The following packages are not available from current channels:\n",
      "\n",
      "  - pingouin\n",
      "\n",
      "Current channels:\n",
      "\n",
      "  - defaults\n",
      "\n",
      "To search for alternate channels that may provide the conda package you're\n",
      "looking for, navigate to\n",
      "\n",
      "    https://anaconda.org\n",
      "\n",
      "and use the search bar at the top of the page.\n",
      "\n",
      "\n"
     ]
    }
   ],
   "source": [
    "import pingouin as pg\n",
    "\n",
    "\n",
    "\n",
    "icc = pg.intraclass_corr(data=data, targets='Wine', raters='Judge',\n",
    "                         ratings='Scores')"
   ]
  }
 ],
 "metadata": {
  "kernelspec": {
   "display_name": "base",
   "language": "python",
   "name": "python3"
  },
  "language_info": {
   "codemirror_mode": {
    "name": "ipython",
    "version": 3
   },
   "file_extension": ".py",
   "mimetype": "text/x-python",
   "name": "python",
   "nbconvert_exporter": "python",
   "pygments_lexer": "ipython3",
   "version": "3.12.3"
  }
 },
 "nbformat": 4,
 "nbformat_minor": 2
}
